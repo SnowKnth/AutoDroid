{
 "cells": [
  {
   "cell_type": "code",
   "execution_count": null,
   "metadata": {},
   "outputs": [
    {
     "ename": "",
     "evalue": "",
     "output_type": "error",
     "traceback": [
      "\u001b[1;31mRunning cells with 'llamatouch (Python 3.9.19)' requires the ipykernel package.\n",
      "\u001b[1;31mRun the following command to install 'ipykernel' into the Python environment. \n",
      "\u001b[1;31mCommand: 'conda install -n llamatouch ipykernel --update-deps --force-reinstall'"
     ]
    }
   ],
   "source": [
    "from androguard.misc import AnalyzeAPK\n",
    "\n",
    "# Load the APK file\n",
    "apk_path = \"path/to/your/app.apk\"\n",
    "a, d, dx = AnalyzeAPK(apk_path)\n",
    "\n",
    "# Print some basic information\n",
    "print(\"Package Name:\", a.get_package())\n",
    "print(\"Main Activity:\", a.get_main_activity())\n",
    "print(\"Permissions:\", a.get_permissions())"
   ]
  },
  {
   "cell_type": "code",
   "execution_count": null,
   "metadata": {},
   "outputs": [],
   "source": [
    "import re\n",
    "response = \"Given the current state and options, the next step to effectively continue testing the 'Search for the new nike air max shoes on Nike.' feature would be to input your search term into the search bar. However, since the search bar is represented as an input field and not a button, you will need to simulate entering text into that field. Since you need to input 'Air Max shoes' into the search bar, you need to first interact with the input field (which is currently present as id=3). The action you want to perform is to select that input field to enter your search term. Thus, the recommended action ID is as follows: action id: 3\"\n",
    "# conversation += f\"    Prompt:\\n{prompt}\\n\" + f\"    Response:\\n{response}\\n\"\n",
    "if 'action id' in response.lower():\n",
    "    response = response.lower().split(\"action id\")[1]    \n",
    "match = re.search(r'\\d+', response)\n",
    "\n",
    "finish = 0\n",
    "# 判断是否已经执行到后面的task了\n",
    "if not match:\n",
    "    print(\"Not match\")\n"
   ]
  }
 ],
 "metadata": {
  "kernelspec": {
   "display_name": "llamatouch",
   "language": "python",
   "name": "python3"
  },
  "language_info": {
   "name": "python",
   "version": "3.9.21"
  }
 },
 "nbformat": 4,
 "nbformat_minor": 2
}
