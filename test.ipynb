{
 "cells": [
  {
   "cell_type": "code",
   "execution_count": null,
   "metadata": {},
   "outputs": [
    {
     "ename": "",
     "evalue": "",
     "output_type": "error",
     "traceback": [
      "\u001b[1;31mRunning cells with 'llamatouch (Python 3.9.19)' requires the ipykernel package.\n",
      "\u001b[1;31mRun the following command to install 'ipykernel' into the Python environment. \n",
      "\u001b[1;31mCommand: 'conda install -n llamatouch ipykernel --update-deps --force-reinstall'"
     ]
    }
   ],
   "source": [
    "from androguard.misc import AnalyzeAPK\n",
    "\n",
    "# Load the APK file\n",
    "apk_path = \"path/to/your/app.apk\"\n",
    "a, d, dx = AnalyzeAPK(apk_path)\n",
    "\n",
    "# Print some basic information\n",
    "print(\"Package Name:\", a.get_package())\n",
    "print(\"Main Activity:\", a.get_main_activity())\n",
    "print(\"Permissions:\", a.get_permissions())"
   ]
  }
 ],
 "metadata": {
  "kernelspec": {
   "display_name": "llamatouch",
   "language": "python",
   "name": "python3"
  },
  "language_info": {
   "name": "python",
   "version": "3.9.19"
  }
 },
 "nbformat": 4,
 "nbformat_minor": 2
}
